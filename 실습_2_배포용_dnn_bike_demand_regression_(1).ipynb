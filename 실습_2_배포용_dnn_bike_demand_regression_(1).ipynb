{
  "nbformat": 4,
  "nbformat_minor": 0,
  "metadata": {
    "colab": {
      "name": "실습_2_배포용_dnn_bike_demand_regression (1).ipynb",
      "provenance": [],
      "collapsed_sections": [],
      "toc_visible": true,
      "include_colab_link": true
    },
    "kernelspec": {
      "name": "python3",
      "display_name": "Python 3"
    }
  },
  "cells": [
    {
      "cell_type": "markdown",
      "metadata": {
        "id": "view-in-github",
        "colab_type": "text"
      },
      "source": [
        "<a href=\"https://colab.research.google.com/github/chbigbrother/tensorflow/blob/master/%EC%8B%A4%EC%8A%B5_2_%EB%B0%B0%ED%8F%AC%EC%9A%A9_dnn_bike_demand_regression_(1).ipynb\" target=\"_parent\"><img src=\"https://colab.research.google.com/assets/colab-badge.svg\" alt=\"Open In Colab\"/></a>"
      ]
    },
    {
      "cell_type": "markdown",
      "metadata": {
        "id": "QMNDvPs06rU5"
      },
      "source": [
        "## DNN(MLP) 모델을 이용한 자전거 대여 수요 예측 데이터 셋 회귀 분석-1  \n",
        "* 단일 값(`count`) 예측 모델 구현"
      ]
    },
    {
      "cell_type": "code",
      "metadata": {
        "id": "vrFR0yMS5Phr"
      },
      "source": [
        "import matplotlib.pyplot as plt\n",
        "import pandas as pd\n",
        "\n",
        "import tensorflow as tf\n",
        "from tensorflow.keras import layers, models"
      ],
      "execution_count": null,
      "outputs": []
    },
    {
      "cell_type": "markdown",
      "metadata": {
        "id": "qFEfaN3A7Kc1"
      },
      "source": [
        "### Step 1-1. Input tensor 와 Target tensor 준비(훈련데이터)\n",
        "* 자전거 수요 예측 데이터셋 파일 down"
      ]
    },
    {
      "cell_type": "code",
      "metadata": {
        "id": "nHVGi-Uy60j7",
        "colab": {
          "base_uri": "https://localhost:8080/",
          "height": 71
        },
        "outputId": "04492f69-ce44-425a-e90c-e155b0da9736"
      },
      "source": [
        "auto_mpg_dataset_url = \"https://drive.google.com/uc?export=download&id=1WhSZll5tDUUl3sFLJMIO01a0d2tQtfc7\"\n",
        "dataset_path = tf.keras.utils.get_file(\"/content/bike-demand.csv\", auto_mpg_dataset_url)\n",
        "dataset_path"
      ],
      "execution_count": null,
      "outputs": [
        {
          "output_type": "stream",
          "text": [
            "Downloading data from https://drive.google.com/uc?export=download&id=1WhSZll5tDUUl3sFLJMIO01a0d2tQtfc7\n",
            "655360/648353 [==============================] - 0s 0us/step\n"
          ],
          "name": "stdout"
        },
        {
          "output_type": "execute_result",
          "data": {
            "application/vnd.google.colaboratory.intrinsic+json": {
              "type": "string"
            },
            "text/plain": [
              "'/content/bike-demand.csv'"
            ]
          },
          "metadata": {
            "tags": []
          },
          "execution_count": 2
        }
      ]
    },
    {
      "cell_type": "markdown",
      "metadata": {
        "id": "zrboaiVi_p99"
      },
      "source": [
        "*  데이터 셋 파일을 읽어 Dataframe 객체 생성"
      ]
    },
    {
      "cell_type": "code",
      "metadata": {
        "id": "ycbvYnAU7Qty"
      },
      "source": [
        "raw_dataset = pd.read_csv('/content/bike-demand.csv')\n",
        "dataset = raw_dataset.copy()"
      ],
      "execution_count": null,
      "outputs": []
    },
    {
      "cell_type": "markdown",
      "metadata": {
        "id": "BUxQ4ehZJhzr"
      },
      "source": [
        "* 데이터셋의 info 확인"
      ]
    },
    {
      "cell_type": "code",
      "metadata": {
        "id": "BMmXDrjlK43I",
        "colab": {
          "base_uri": "https://localhost:8080/",
          "height": 305
        },
        "outputId": "2a6ee51a-52f9-4561-d201-d60e07a9ab95"
      },
      "source": [
        "# type here 1\n",
        "dataset.info()"
      ],
      "execution_count": null,
      "outputs": [
        {
          "output_type": "stream",
          "text": [
            "<class 'pandas.core.frame.DataFrame'>\n",
            "RangeIndex: 10886 entries, 0 to 10885\n",
            "Data columns (total 9 columns):\n",
            " #   Column      Non-Null Count  Dtype  \n",
            "---  ------      --------------  -----  \n",
            " 0   season      10886 non-null  int64  \n",
            " 1   holiday     10886 non-null  int64  \n",
            " 2   workingday  10886 non-null  int64  \n",
            " 3   weather     10886 non-null  int64  \n",
            " 4   temp        10886 non-null  float64\n",
            " 5   atemp       10886 non-null  float64\n",
            " 6   humidity    10886 non-null  int64  \n",
            " 7   windspeed   10886 non-null  float64\n",
            " 8   count       10886 non-null  int64  \n",
            "dtypes: float64(3), int64(6)\n",
            "memory usage: 765.5 KB\n"
          ],
          "name": "stdout"
        }
      ]
    },
    {
      "cell_type": "markdown",
      "metadata": {
        "id": "Qi43Fl9s_xYQ"
      },
      "source": [
        "### Step 1-2. 입력 데이터의 전처리 \n",
        "* 데이터 셋 내의 NaN 값 체크"
      ]
    },
    {
      "cell_type": "code",
      "metadata": {
        "id": "Nxp9p6OA87x_",
        "colab": {
          "base_uri": "https://localhost:8080/",
          "height": 251
        },
        "outputId": "611da736-2431-4a9b-f272-1f914572159e"
      },
      "source": [
        "# type here 2\n",
        "dataset.isnull().sum()"
      ],
      "execution_count": null,
      "outputs": [
        {
          "output_type": "execute_result",
          "data": {
            "text/plain": [
              "datetime      0\n",
              "season        0\n",
              "holiday       0\n",
              "workingday    0\n",
              "weather       0\n",
              "temp          0\n",
              "atemp         0\n",
              "humidity      0\n",
              "windspeed     0\n",
              "casual        0\n",
              "registered    0\n",
              "count         0\n",
              "dtype: int64"
            ]
          },
          "metadata": {
            "tags": []
          },
          "execution_count": 5
        }
      ]
    },
    {
      "cell_type": "markdown",
      "metadata": {
        "id": "acmK9Rf9DXP1"
      },
      "source": [
        "* 학습에 사용하지 않을 컬럼 정보 제거\n",
        "  * `datetime` : 데이터의 식별 정보(모든 데이터가 unique)\n",
        "  * `casual` : 직접적인 수요 정보(현장 대여 수요)\n",
        "  * `registered` : 직접적인 수요 정보(예약 대여 수요)"
      ]
    },
    {
      "cell_type": "code",
      "metadata": {
        "id": "otCsVpL6Divh"
      },
      "source": [
        "# type here 3\n",
        "drop_columns = ['datetime', 'casual', 'registered']\n",
        "dataset.drop(drop_columns, axis=1, inplace=True)"
      ],
      "execution_count": null,
      "outputs": []
    },
    {
      "cell_type": "markdown",
      "metadata": {
        "id": "BcbvpTSE_3lx"
      },
      "source": [
        "* 데이터셋 에서 20% 선택하여 test 데이터 셋으로 분할"
      ]
    },
    {
      "cell_type": "code",
      "metadata": {
        "id": "uV7zovcF_Jrn"
      },
      "source": [
        "train_dataset = dataset.sample(frac=0.8, random_state=0)\n",
        "test_dataset = dataset.drop(train_dataset.index)"
      ],
      "execution_count": null,
      "outputs": []
    },
    {
      "cell_type": "code",
      "metadata": {
        "id": "vrl97jh4_Y38",
        "colab": {
          "base_uri": "https://localhost:8080/",
          "height": 53
        },
        "outputId": "e01689db-6969-48d7-a344-ccec8f463f92"
      },
      "source": [
        "print(len(train_dataset))\n",
        "print(len(test_dataset))"
      ],
      "execution_count": null,
      "outputs": [
        {
          "output_type": "stream",
          "text": [
            "8709\n",
            "2177\n"
          ],
          "name": "stdout"
        }
      ]
    },
    {
      "cell_type": "markdown",
      "metadata": {
        "id": "UtfSj9HH_-Ey"
      },
      "source": [
        "* 표준화를 통한 Input tensor의 전처리  \n",
        "  * 수치형 특성 정보에 대해서만 표준화 수행  "
      ]
    },
    {
      "cell_type": "code",
      "metadata": {
        "id": "hsXk37NKz8eM"
      },
      "source": [
        "# category 데이터와 numerical 데이터의 분류\n",
        "numeric_column = ['temp',\t'atemp',\t'humidity',\t'windspeed']"
      ],
      "execution_count": null,
      "outputs": []
    },
    {
      "cell_type": "code",
      "metadata": {
        "id": "yi2_3diE_i-G"
      },
      "source": [
        "# 데이터 전처리를 위한 통계정보 생성\n",
        "# type here 4\n",
        "train_stats = train_dataset[numeric_column].describe()"
      ],
      "execution_count": null,
      "outputs": []
    },
    {
      "cell_type": "code",
      "metadata": {
        "id": "bN4Y42TCR_HX",
        "colab": {
          "base_uri": "https://localhost:8080/",
          "height": 297
        },
        "outputId": "f666105c-768f-4e56-a376-713d02a94227"
      },
      "source": [
        "train_stats"
      ],
      "execution_count": null,
      "outputs": [
        {
          "output_type": "execute_result",
          "data": {
            "text/html": [
              "<div>\n",
              "<style scoped>\n",
              "    .dataframe tbody tr th:only-of-type {\n",
              "        vertical-align: middle;\n",
              "    }\n",
              "\n",
              "    .dataframe tbody tr th {\n",
              "        vertical-align: top;\n",
              "    }\n",
              "\n",
              "    .dataframe thead th {\n",
              "        text-align: right;\n",
              "    }\n",
              "</style>\n",
              "<table border=\"1\" class=\"dataframe\">\n",
              "  <thead>\n",
              "    <tr style=\"text-align: right;\">\n",
              "      <th></th>\n",
              "      <th>temp</th>\n",
              "      <th>atemp</th>\n",
              "      <th>humidity</th>\n",
              "      <th>windspeed</th>\n",
              "    </tr>\n",
              "  </thead>\n",
              "  <tbody>\n",
              "    <tr>\n",
              "      <th>count</th>\n",
              "      <td>8709.000000</td>\n",
              "      <td>8709.000000</td>\n",
              "      <td>8709.000000</td>\n",
              "      <td>8709.000000</td>\n",
              "    </tr>\n",
              "    <tr>\n",
              "      <th>mean</th>\n",
              "      <td>20.269978</td>\n",
              "      <td>23.698172</td>\n",
              "      <td>62.016535</td>\n",
              "      <td>12.839881</td>\n",
              "    </tr>\n",
              "    <tr>\n",
              "      <th>std</th>\n",
              "      <td>7.801503</td>\n",
              "      <td>8.493468</td>\n",
              "      <td>19.266975</td>\n",
              "      <td>8.139981</td>\n",
              "    </tr>\n",
              "    <tr>\n",
              "      <th>min</th>\n",
              "      <td>0.820000</td>\n",
              "      <td>0.760000</td>\n",
              "      <td>0.000000</td>\n",
              "      <td>0.000000</td>\n",
              "    </tr>\n",
              "    <tr>\n",
              "      <th>25%</th>\n",
              "      <td>13.940000</td>\n",
              "      <td>16.665000</td>\n",
              "      <td>47.000000</td>\n",
              "      <td>7.001500</td>\n",
              "    </tr>\n",
              "    <tr>\n",
              "      <th>50%</th>\n",
              "      <td>20.500000</td>\n",
              "      <td>24.240000</td>\n",
              "      <td>62.000000</td>\n",
              "      <td>12.998000</td>\n",
              "    </tr>\n",
              "    <tr>\n",
              "      <th>75%</th>\n",
              "      <td>26.240000</td>\n",
              "      <td>31.060000</td>\n",
              "      <td>78.000000</td>\n",
              "      <td>16.997900</td>\n",
              "    </tr>\n",
              "    <tr>\n",
              "      <th>max</th>\n",
              "      <td>41.000000</td>\n",
              "      <td>45.455000</td>\n",
              "      <td>100.000000</td>\n",
              "      <td>56.996900</td>\n",
              "    </tr>\n",
              "  </tbody>\n",
              "</table>\n",
              "</div>"
            ],
            "text/plain": [
              "              temp        atemp     humidity    windspeed\n",
              "count  8709.000000  8709.000000  8709.000000  8709.000000\n",
              "mean     20.269978    23.698172    62.016535    12.839881\n",
              "std       7.801503     8.493468    19.266975     8.139981\n",
              "min       0.820000     0.760000     0.000000     0.000000\n",
              "25%      13.940000    16.665000    47.000000     7.001500\n",
              "50%      20.500000    24.240000    62.000000    12.998000\n",
              "75%      26.240000    31.060000    78.000000    16.997900\n",
              "max      41.000000    45.455000   100.000000    56.996900"
            ]
          },
          "metadata": {
            "tags": []
          },
          "execution_count": 12
        }
      ]
    },
    {
      "cell_type": "code",
      "metadata": {
        "id": "TQcr3tCBuG23"
      },
      "source": [
        "# 각 특성 별 통계정보를 가공하기 쉽도록 matrix 전치\n",
        "train_stats = train_stats.transpose()"
      ],
      "execution_count": null,
      "outputs": []
    },
    {
      "cell_type": "code",
      "metadata": {
        "id": "SagT5_X7uMaL",
        "colab": {
          "base_uri": "https://localhost:8080/",
          "height": 173
        },
        "outputId": "c194342c-91fa-4892-a04a-a0d5c2bfe242"
      },
      "source": [
        "train_stats"
      ],
      "execution_count": null,
      "outputs": [
        {
          "output_type": "execute_result",
          "data": {
            "text/html": [
              "<div>\n",
              "<style scoped>\n",
              "    .dataframe tbody tr th:only-of-type {\n",
              "        vertical-align: middle;\n",
              "    }\n",
              "\n",
              "    .dataframe tbody tr th {\n",
              "        vertical-align: top;\n",
              "    }\n",
              "\n",
              "    .dataframe thead th {\n",
              "        text-align: right;\n",
              "    }\n",
              "</style>\n",
              "<table border=\"1\" class=\"dataframe\">\n",
              "  <thead>\n",
              "    <tr style=\"text-align: right;\">\n",
              "      <th></th>\n",
              "      <th>count</th>\n",
              "      <th>mean</th>\n",
              "      <th>std</th>\n",
              "      <th>min</th>\n",
              "      <th>25%</th>\n",
              "      <th>50%</th>\n",
              "      <th>75%</th>\n",
              "      <th>max</th>\n",
              "    </tr>\n",
              "  </thead>\n",
              "  <tbody>\n",
              "    <tr>\n",
              "      <th>temp</th>\n",
              "      <td>8709.0</td>\n",
              "      <td>20.269978</td>\n",
              "      <td>7.801503</td>\n",
              "      <td>0.82</td>\n",
              "      <td>13.9400</td>\n",
              "      <td>20.500</td>\n",
              "      <td>26.2400</td>\n",
              "      <td>41.0000</td>\n",
              "    </tr>\n",
              "    <tr>\n",
              "      <th>atemp</th>\n",
              "      <td>8709.0</td>\n",
              "      <td>23.698172</td>\n",
              "      <td>8.493468</td>\n",
              "      <td>0.76</td>\n",
              "      <td>16.6650</td>\n",
              "      <td>24.240</td>\n",
              "      <td>31.0600</td>\n",
              "      <td>45.4550</td>\n",
              "    </tr>\n",
              "    <tr>\n",
              "      <th>humidity</th>\n",
              "      <td>8709.0</td>\n",
              "      <td>62.016535</td>\n",
              "      <td>19.266975</td>\n",
              "      <td>0.00</td>\n",
              "      <td>47.0000</td>\n",
              "      <td>62.000</td>\n",
              "      <td>78.0000</td>\n",
              "      <td>100.0000</td>\n",
              "    </tr>\n",
              "    <tr>\n",
              "      <th>windspeed</th>\n",
              "      <td>8709.0</td>\n",
              "      <td>12.839881</td>\n",
              "      <td>8.139981</td>\n",
              "      <td>0.00</td>\n",
              "      <td>7.0015</td>\n",
              "      <td>12.998</td>\n",
              "      <td>16.9979</td>\n",
              "      <td>56.9969</td>\n",
              "    </tr>\n",
              "  </tbody>\n",
              "</table>\n",
              "</div>"
            ],
            "text/plain": [
              "            count       mean        std  ...     50%      75%       max\n",
              "temp       8709.0  20.269978   7.801503  ...  20.500  26.2400   41.0000\n",
              "atemp      8709.0  23.698172   8.493468  ...  24.240  31.0600   45.4550\n",
              "humidity   8709.0  62.016535  19.266975  ...  62.000  78.0000  100.0000\n",
              "windspeed  8709.0  12.839881   8.139981  ...  12.998  16.9979   56.9969\n",
              "\n",
              "[4 rows x 8 columns]"
            ]
          },
          "metadata": {
            "tags": []
          },
          "execution_count": 18
        }
      ]
    },
    {
      "cell_type": "code",
      "metadata": {
        "id": "ybs6j7j8_rgn"
      },
      "source": [
        "# Target tensor 를 위한 자전거 대여 수요(count) 추출\n",
        "# type here 5\n",
        "#train_labels = train_dataset.pop('count')\n",
        "test_labels = test_dataset.pop('count')"
      ],
      "execution_count": null,
      "outputs": []
    },
    {
      "cell_type": "code",
      "metadata": {
        "id": "mtiKF1PWS6Uo",
        "colab": {
          "base_uri": "https://localhost:8080/",
          "height": 419
        },
        "outputId": "daaddeae-1f54-40d8-d9c2-6c6e359fdbcb"
      },
      "source": [
        "train_dataset"
      ],
      "execution_count": null,
      "outputs": [
        {
          "output_type": "execute_result",
          "data": {
            "text/html": [
              "<div>\n",
              "<style scoped>\n",
              "    .dataframe tbody tr th:only-of-type {\n",
              "        vertical-align: middle;\n",
              "    }\n",
              "\n",
              "    .dataframe tbody tr th {\n",
              "        vertical-align: top;\n",
              "    }\n",
              "\n",
              "    .dataframe thead th {\n",
              "        text-align: right;\n",
              "    }\n",
              "</style>\n",
              "<table border=\"1\" class=\"dataframe\">\n",
              "  <thead>\n",
              "    <tr style=\"text-align: right;\">\n",
              "      <th></th>\n",
              "      <th>season</th>\n",
              "      <th>holiday</th>\n",
              "      <th>workingday</th>\n",
              "      <th>weather</th>\n",
              "      <th>temp</th>\n",
              "      <th>atemp</th>\n",
              "      <th>humidity</th>\n",
              "      <th>windspeed</th>\n",
              "    </tr>\n",
              "  </thead>\n",
              "  <tbody>\n",
              "    <tr>\n",
              "      <th>6638</th>\n",
              "      <td>1</td>\n",
              "      <td>0</td>\n",
              "      <td>1</td>\n",
              "      <td>1</td>\n",
              "      <td>23.78</td>\n",
              "      <td>27.275</td>\n",
              "      <td>56</td>\n",
              "      <td>7.0015</td>\n",
              "    </tr>\n",
              "    <tr>\n",
              "      <th>7975</th>\n",
              "      <td>2</td>\n",
              "      <td>0</td>\n",
              "      <td>1</td>\n",
              "      <td>2</td>\n",
              "      <td>27.06</td>\n",
              "      <td>29.545</td>\n",
              "      <td>89</td>\n",
              "      <td>19.0012</td>\n",
              "    </tr>\n",
              "    <tr>\n",
              "      <th>5915</th>\n",
              "      <td>1</td>\n",
              "      <td>0</td>\n",
              "      <td>1</td>\n",
              "      <td>1</td>\n",
              "      <td>18.86</td>\n",
              "      <td>22.725</td>\n",
              "      <td>55</td>\n",
              "      <td>19.0012</td>\n",
              "    </tr>\n",
              "    <tr>\n",
              "      <th>8050</th>\n",
              "      <td>2</td>\n",
              "      <td>0</td>\n",
              "      <td>1</td>\n",
              "      <td>1</td>\n",
              "      <td>28.70</td>\n",
              "      <td>31.820</td>\n",
              "      <td>42</td>\n",
              "      <td>11.0014</td>\n",
              "    </tr>\n",
              "    <tr>\n",
              "      <th>5894</th>\n",
              "      <td>1</td>\n",
              "      <td>0</td>\n",
              "      <td>1</td>\n",
              "      <td>1</td>\n",
              "      <td>22.14</td>\n",
              "      <td>25.760</td>\n",
              "      <td>52</td>\n",
              "      <td>19.0012</td>\n",
              "    </tr>\n",
              "    <tr>\n",
              "      <th>...</th>\n",
              "      <td>...</td>\n",
              "      <td>...</td>\n",
              "      <td>...</td>\n",
              "      <td>...</td>\n",
              "      <td>...</td>\n",
              "      <td>...</td>\n",
              "      <td>...</td>\n",
              "      <td>...</td>\n",
              "    </tr>\n",
              "    <tr>\n",
              "      <th>3372</th>\n",
              "      <td>3</td>\n",
              "      <td>0</td>\n",
              "      <td>1</td>\n",
              "      <td>1</td>\n",
              "      <td>32.80</td>\n",
              "      <td>36.365</td>\n",
              "      <td>43</td>\n",
              "      <td>15.0013</td>\n",
              "    </tr>\n",
              "    <tr>\n",
              "      <th>7954</th>\n",
              "      <td>2</td>\n",
              "      <td>0</td>\n",
              "      <td>1</td>\n",
              "      <td>2</td>\n",
              "      <td>31.16</td>\n",
              "      <td>34.090</td>\n",
              "      <td>48</td>\n",
              "      <td>22.0028</td>\n",
              "    </tr>\n",
              "    <tr>\n",
              "      <th>232</th>\n",
              "      <td>1</td>\n",
              "      <td>0</td>\n",
              "      <td>1</td>\n",
              "      <td>1</td>\n",
              "      <td>5.74</td>\n",
              "      <td>7.575</td>\n",
              "      <td>59</td>\n",
              "      <td>11.0014</td>\n",
              "    </tr>\n",
              "    <tr>\n",
              "      <th>968</th>\n",
              "      <td>1</td>\n",
              "      <td>0</td>\n",
              "      <td>1</td>\n",
              "      <td>1</td>\n",
              "      <td>13.12</td>\n",
              "      <td>15.150</td>\n",
              "      <td>61</td>\n",
              "      <td>16.9979</td>\n",
              "    </tr>\n",
              "    <tr>\n",
              "      <th>7866</th>\n",
              "      <td>2</td>\n",
              "      <td>0</td>\n",
              "      <td>1</td>\n",
              "      <td>1</td>\n",
              "      <td>22.14</td>\n",
              "      <td>25.760</td>\n",
              "      <td>60</td>\n",
              "      <td>6.0032</td>\n",
              "    </tr>\n",
              "  </tbody>\n",
              "</table>\n",
              "<p>8709 rows × 8 columns</p>\n",
              "</div>"
            ],
            "text/plain": [
              "      season  holiday  workingday  weather   temp   atemp  humidity  windspeed\n",
              "6638       1        0           1        1  23.78  27.275        56     7.0015\n",
              "7975       2        0           1        2  27.06  29.545        89    19.0012\n",
              "5915       1        0           1        1  18.86  22.725        55    19.0012\n",
              "8050       2        0           1        1  28.70  31.820        42    11.0014\n",
              "5894       1        0           1        1  22.14  25.760        52    19.0012\n",
              "...      ...      ...         ...      ...    ...     ...       ...        ...\n",
              "3372       3        0           1        1  32.80  36.365        43    15.0013\n",
              "7954       2        0           1        2  31.16  34.090        48    22.0028\n",
              "232        1        0           1        1   5.74   7.575        59    11.0014\n",
              "968        1        0           1        1  13.12  15.150        61    16.9979\n",
              "7866       2        0           1        1  22.14  25.760        60     6.0032\n",
              "\n",
              "[8709 rows x 8 columns]"
            ]
          },
          "metadata": {
            "tags": []
          },
          "execution_count": 21
        }
      ]
    },
    {
      "cell_type": "code",
      "metadata": {
        "id": "PeB_kDHm_74D"
      },
      "source": [
        "# Input tensor의 표준화(평균 :0/ 표준편차 :1) 함수 정의\n",
        "# type here 6\n",
        "def norm(x):\n",
        "  normed_data = (x - train_stats['mean']) / train_stats['std']\n",
        "  return normed_data"
      ],
      "execution_count": null,
      "outputs": []
    },
    {
      "cell_type": "code",
      "metadata": {
        "id": "cunxk_11tXq0"
      },
      "source": [
        "# 수치형 Input tensor 들만 특성 정보 표준화 처리 수행\n",
        "# type here 7\n",
        "train_dataset[numeric_column] = norm(train_dataset[numeric_column])\n",
        "test_dataset[numeric_column] = norm(test_dataset[numeric_column])"
      ],
      "execution_count": null,
      "outputs": []
    },
    {
      "cell_type": "code",
      "metadata": {
        "id": "nqf8Avo8TrKQ",
        "colab": {
          "base_uri": "https://localhost:8080/",
          "height": 297
        },
        "outputId": "2b7b3ce2-1c7d-4232-d329-555a6fa2f333"
      },
      "source": [
        "train_dataset.describe()"
      ],
      "execution_count": null,
      "outputs": [
        {
          "output_type": "execute_result",
          "data": {
            "text/html": [
              "<div>\n",
              "<style scoped>\n",
              "    .dataframe tbody tr th:only-of-type {\n",
              "        vertical-align: middle;\n",
              "    }\n",
              "\n",
              "    .dataframe tbody tr th {\n",
              "        vertical-align: top;\n",
              "    }\n",
              "\n",
              "    .dataframe thead th {\n",
              "        text-align: right;\n",
              "    }\n",
              "</style>\n",
              "<table border=\"1\" class=\"dataframe\">\n",
              "  <thead>\n",
              "    <tr style=\"text-align: right;\">\n",
              "      <th></th>\n",
              "      <th>season</th>\n",
              "      <th>holiday</th>\n",
              "      <th>workingday</th>\n",
              "      <th>weather</th>\n",
              "      <th>temp</th>\n",
              "      <th>atemp</th>\n",
              "      <th>humidity</th>\n",
              "      <th>windspeed</th>\n",
              "    </tr>\n",
              "  </thead>\n",
              "  <tbody>\n",
              "    <tr>\n",
              "      <th>count</th>\n",
              "      <td>8709.000000</td>\n",
              "      <td>8709.000000</td>\n",
              "      <td>8709.000000</td>\n",
              "      <td>8709.000000</td>\n",
              "      <td>8.709000e+03</td>\n",
              "      <td>8.709000e+03</td>\n",
              "      <td>8.709000e+03</td>\n",
              "      <td>8.709000e+03</td>\n",
              "    </tr>\n",
              "    <tr>\n",
              "      <th>mean</th>\n",
              "      <td>2.507636</td>\n",
              "      <td>0.028476</td>\n",
              "      <td>0.677575</td>\n",
              "      <td>1.417844</td>\n",
              "      <td>-9.026592e-15</td>\n",
              "      <td>-1.690678e-15</td>\n",
              "      <td>-5.885750e-17</td>\n",
              "      <td>-2.637010e-14</td>\n",
              "    </tr>\n",
              "    <tr>\n",
              "      <th>std</th>\n",
              "      <td>1.115553</td>\n",
              "      <td>0.166339</td>\n",
              "      <td>0.467432</td>\n",
              "      <td>0.634745</td>\n",
              "      <td>1.000000e+00</td>\n",
              "      <td>1.000000e+00</td>\n",
              "      <td>1.000000e+00</td>\n",
              "      <td>1.000000e+00</td>\n",
              "    </tr>\n",
              "    <tr>\n",
              "      <th>min</th>\n",
              "      <td>1.000000</td>\n",
              "      <td>0.000000</td>\n",
              "      <td>0.000000</td>\n",
              "      <td>1.000000</td>\n",
              "      <td>-2.493107e+00</td>\n",
              "      <td>-2.700684e+00</td>\n",
              "      <td>-3.218800e+00</td>\n",
              "      <td>-1.577385e+00</td>\n",
              "    </tr>\n",
              "    <tr>\n",
              "      <th>25%</th>\n",
              "      <td>2.000000</td>\n",
              "      <td>0.000000</td>\n",
              "      <td>0.000000</td>\n",
              "      <td>1.000000</td>\n",
              "      <td>-8.113793e-01</td>\n",
              "      <td>-8.280684e-01</td>\n",
              "      <td>-7.793925e-01</td>\n",
              "      <td>-7.172475e-01</td>\n",
              "    </tr>\n",
              "    <tr>\n",
              "      <th>50%</th>\n",
              "      <td>3.000000</td>\n",
              "      <td>0.000000</td>\n",
              "      <td>1.000000</td>\n",
              "      <td>1.000000</td>\n",
              "      <td>2.948429e-02</td>\n",
              "      <td>6.379350e-02</td>\n",
              "      <td>-8.581845e-04</td>\n",
              "      <td>1.942497e-02</td>\n",
              "    </tr>\n",
              "    <tr>\n",
              "      <th>75%</th>\n",
              "      <td>4.000000</td>\n",
              "      <td>0.000000</td>\n",
              "      <td>1.000000</td>\n",
              "      <td>2.000000</td>\n",
              "      <td>7.652399e-01</td>\n",
              "      <td>8.667635e-01</td>\n",
              "      <td>8.295784e-01</td>\n",
              "      <td>5.108143e-01</td>\n",
              "    </tr>\n",
              "    <tr>\n",
              "      <th>max</th>\n",
              "      <td>4.000000</td>\n",
              "      <td>1.000000</td>\n",
              "      <td>1.000000</td>\n",
              "      <td>4.000000</td>\n",
              "      <td>2.657183e+00</td>\n",
              "      <td>2.561595e+00</td>\n",
              "      <td>1.971429e+00</td>\n",
              "      <td>5.424708e+00</td>\n",
              "    </tr>\n",
              "  </tbody>\n",
              "</table>\n",
              "</div>"
            ],
            "text/plain": [
              "            season      holiday  ...      humidity     windspeed\n",
              "count  8709.000000  8709.000000  ...  8.709000e+03  8.709000e+03\n",
              "mean      2.507636     0.028476  ... -5.885750e-17 -2.637010e-14\n",
              "std       1.115553     0.166339  ...  1.000000e+00  1.000000e+00\n",
              "min       1.000000     0.000000  ... -3.218800e+00 -1.577385e+00\n",
              "25%       2.000000     0.000000  ... -7.793925e-01 -7.172475e-01\n",
              "50%       3.000000     0.000000  ... -8.581845e-04  1.942497e-02\n",
              "75%       4.000000     0.000000  ...  8.295784e-01  5.108143e-01\n",
              "max       4.000000     1.000000  ...  1.971429e+00  5.424708e+00\n",
              "\n",
              "[8 rows x 8 columns]"
            ]
          },
          "metadata": {
            "tags": []
          },
          "execution_count": 24
        }
      ]
    },
    {
      "cell_type": "markdown",
      "metadata": {
        "id": "DhVti5z8A3HM"
      },
      "source": [
        "### Step 2. DNN(MLP) 모델 디자인"
      ]
    },
    {
      "cell_type": "code",
      "metadata": {
        "id": "vMzXzIHKtzb-"
      },
      "source": [
        "#type here 8\n",
        "model = models.Sequential()\n",
        "model.add(layers.Dense(units=64, activation='relu', input_shape=(len(train_dataset.keys()),)))\n",
        "model.add(layers.Dense(units=32, activation='relu'))\n",
        "model.add(layers.Dense(units=1))"
      ],
      "execution_count": null,
      "outputs": []
    },
    {
      "cell_type": "code",
      "metadata": {
        "id": "Nf0nazWPudwL",
        "colab": {
          "base_uri": "https://localhost:8080/",
          "height": 269
        },
        "outputId": "07c0fc2d-face-4550-8d3d-c8a554e5188f"
      },
      "source": [
        "model.summary()"
      ],
      "execution_count": null,
      "outputs": [
        {
          "output_type": "stream",
          "text": [
            "Model: \"sequential\"\n",
            "_________________________________________________________________\n",
            "Layer (type)                 Output Shape              Param #   \n",
            "=================================================================\n",
            "dense (Dense)                (None, 64)                576       \n",
            "_________________________________________________________________\n",
            "dense_1 (Dense)              (None, 32)                2080      \n",
            "_________________________________________________________________\n",
            "dense_2 (Dense)              (None, 1)                 33        \n",
            "=================================================================\n",
            "Total params: 2,689\n",
            "Trainable params: 2,689\n",
            "Non-trainable params: 0\n",
            "_________________________________________________________________\n"
          ],
          "name": "stdout"
        }
      ]
    },
    {
      "cell_type": "markdown",
      "metadata": {
        "id": "dzmVvKNSBVbq"
      },
      "source": [
        "### Step 3. 모델의 학습 정보 설정"
      ]
    },
    {
      "cell_type": "code",
      "metadata": {
        "id": "-4stWL95BWzf"
      },
      "source": [
        "# type here 9\n",
        "model.compile(loss='mse',\n",
        "              optimizer='rmsprop',\n",
        "              metrics=['mae'])"
      ],
      "execution_count": null,
      "outputs": []
    },
    {
      "cell_type": "markdown",
      "metadata": {
        "id": "efRVy4tYBamk"
      },
      "source": [
        "### Step 4. 모델에 input, target 데이터 연결 후 학습"
      ]
    },
    {
      "cell_type": "code",
      "metadata": {
        "id": "4z0ewui0uuMt",
        "colab": {
          "base_uri": "https://localhost:8080/",
          "height": 1000
        },
        "outputId": "328ed95e-695d-4fa1-e953-e211985fa188"
      },
      "source": [
        "# validation data set percent : 20%\n",
        "# type here 10\n",
        "history = model.fit(\n",
        "    x=train_dataset, y=train_labels,\n",
        "    batch_size=16,\n",
        "    epochs=100,\n",
        "    validation_split=0.2\n",
        ")\n"
      ],
      "execution_count": null,
      "outputs": [
        {
          "output_type": "stream",
          "text": [
            "Epoch 1/100\n",
            "436/436 [==============================] - 0s 1ms/step - loss: 43978.4570 - mae: 146.7446 - val_loss: 27863.6211 - val_mae: 124.9415\n",
            "Epoch 2/100\n",
            "436/436 [==============================] - 0s 695us/step - loss: 24570.1211 - mae: 117.4905 - val_loss: 26860.2832 - val_mae: 121.4959\n",
            "Epoch 3/100\n",
            "436/436 [==============================] - 0s 740us/step - loss: 23976.3477 - mae: 115.3188 - val_loss: 26679.8418 - val_mae: 120.1518\n",
            "Epoch 4/100\n",
            "436/436 [==============================] - 0s 721us/step - loss: 23842.5215 - mae: 114.9971 - val_loss: 26566.5703 - val_mae: 118.5995\n",
            "Epoch 5/100\n",
            "436/436 [==============================] - 0s 721us/step - loss: 23763.7578 - mae: 114.3739 - val_loss: 26569.3867 - val_mae: 120.5421\n",
            "Epoch 6/100\n",
            "436/436 [==============================] - 0s 695us/step - loss: 23689.7305 - mae: 114.4879 - val_loss: 26406.2090 - val_mae: 118.8494\n",
            "Epoch 7/100\n",
            "436/436 [==============================] - 0s 720us/step - loss: 23625.9277 - mae: 114.2689 - val_loss: 26355.5176 - val_mae: 118.2048\n",
            "Epoch 8/100\n",
            "436/436 [==============================] - 0s 698us/step - loss: 23568.5859 - mae: 114.1319 - val_loss: 26318.5898 - val_mae: 119.1037\n",
            "Epoch 9/100\n",
            "436/436 [==============================] - 0s 700us/step - loss: 23524.8867 - mae: 113.9848 - val_loss: 26204.1387 - val_mae: 118.0388\n",
            "Epoch 10/100\n",
            "436/436 [==============================] - 0s 747us/step - loss: 23491.9297 - mae: 113.9973 - val_loss: 26123.3164 - val_mae: 117.4785\n",
            "Epoch 11/100\n",
            "436/436 [==============================] - 0s 690us/step - loss: 23402.3984 - mae: 113.6851 - val_loss: 26339.0352 - val_mae: 121.0446\n",
            "Epoch 12/100\n",
            "436/436 [==============================] - 0s 728us/step - loss: 23380.8594 - mae: 113.8101 - val_loss: 26015.9766 - val_mae: 116.7889\n",
            "Epoch 13/100\n",
            "436/436 [==============================] - 0s 728us/step - loss: 23317.6699 - mae: 113.3622 - val_loss: 25910.9121 - val_mae: 117.4595\n",
            "Epoch 14/100\n",
            "436/436 [==============================] - 0s 722us/step - loss: 23286.6172 - mae: 113.5278 - val_loss: 25949.8535 - val_mae: 119.1024\n",
            "Epoch 15/100\n",
            "436/436 [==============================] - 0s 726us/step - loss: 23226.8906 - mae: 113.4477 - val_loss: 25816.5371 - val_mae: 117.7114\n",
            "Epoch 16/100\n",
            "436/436 [==============================] - 0s 734us/step - loss: 23181.4258 - mae: 113.2358 - val_loss: 25762.7285 - val_mae: 115.6649\n",
            "Epoch 17/100\n",
            "436/436 [==============================] - 0s 739us/step - loss: 23139.5098 - mae: 113.2836 - val_loss: 25712.3047 - val_mae: 115.8343\n",
            "Epoch 18/100\n",
            "436/436 [==============================] - 0s 725us/step - loss: 23102.8555 - mae: 113.1580 - val_loss: 25652.8477 - val_mae: 115.2655\n",
            "Epoch 19/100\n",
            "436/436 [==============================] - 0s 731us/step - loss: 23074.3457 - mae: 113.0759 - val_loss: 25621.9258 - val_mae: 118.3257\n",
            "Epoch 20/100\n",
            "436/436 [==============================] - 0s 739us/step - loss: 23049.1348 - mae: 113.0349 - val_loss: 25455.3594 - val_mae: 116.6388\n",
            "Epoch 21/100\n",
            "436/436 [==============================] - 0s 736us/step - loss: 23020.7500 - mae: 113.0311 - val_loss: 25442.1445 - val_mae: 116.1242\n",
            "Epoch 22/100\n",
            "436/436 [==============================] - 0s 714us/step - loss: 22969.1289 - mae: 112.9821 - val_loss: 25519.3887 - val_mae: 114.1671\n",
            "Epoch 23/100\n",
            "436/436 [==============================] - 0s 764us/step - loss: 22925.5488 - mae: 112.6313 - val_loss: 25637.4980 - val_mae: 114.1964\n",
            "Epoch 24/100\n",
            "436/436 [==============================] - 0s 717us/step - loss: 22940.5137 - mae: 112.7572 - val_loss: 25314.2656 - val_mae: 114.9240\n",
            "Epoch 25/100\n",
            "436/436 [==============================] - 0s 717us/step - loss: 22896.4082 - mae: 112.6927 - val_loss: 25318.5781 - val_mae: 117.3038\n",
            "Epoch 26/100\n",
            "436/436 [==============================] - 0s 733us/step - loss: 22876.7441 - mae: 112.7345 - val_loss: 25305.0605 - val_mae: 115.1079\n",
            "Epoch 27/100\n",
            "436/436 [==============================] - 0s 726us/step - loss: 22863.0566 - mae: 112.6920 - val_loss: 25262.7500 - val_mae: 115.2803\n",
            "Epoch 28/100\n",
            "436/436 [==============================] - 0s 725us/step - loss: 22843.6387 - mae: 112.5979 - val_loss: 25202.4297 - val_mae: 114.6172\n",
            "Epoch 29/100\n",
            "436/436 [==============================] - 0s 740us/step - loss: 22832.6230 - mae: 112.4940 - val_loss: 25150.3223 - val_mae: 115.4533\n",
            "Epoch 30/100\n",
            "436/436 [==============================] - 0s 703us/step - loss: 22784.9805 - mae: 112.3145 - val_loss: 25222.9336 - val_mae: 116.6806\n",
            "Epoch 31/100\n",
            "436/436 [==============================] - 0s 737us/step - loss: 22777.8223 - mae: 112.4383 - val_loss: 25131.1543 - val_mae: 115.8484\n",
            "Epoch 32/100\n",
            "436/436 [==============================] - 0s 731us/step - loss: 22772.3633 - mae: 112.4361 - val_loss: 25071.5508 - val_mae: 114.2634\n",
            "Epoch 33/100\n",
            "436/436 [==============================] - 0s 761us/step - loss: 22746.5430 - mae: 112.2681 - val_loss: 25116.3672 - val_mae: 114.5836\n",
            "Epoch 34/100\n",
            "436/436 [==============================] - 0s 698us/step - loss: 22707.6270 - mae: 112.0037 - val_loss: 25053.2363 - val_mae: 114.4990\n",
            "Epoch 35/100\n",
            "436/436 [==============================] - 0s 732us/step - loss: 22696.3691 - mae: 112.1486 - val_loss: 25133.2949 - val_mae: 117.7326\n",
            "Epoch 36/100\n",
            "436/436 [==============================] - 0s 735us/step - loss: 22693.9766 - mae: 112.2681 - val_loss: 25051.3340 - val_mae: 117.0266\n",
            "Epoch 37/100\n",
            "436/436 [==============================] - 0s 726us/step - loss: 22687.2910 - mae: 112.2016 - val_loss: 24911.8262 - val_mae: 115.3187\n",
            "Epoch 38/100\n",
            "436/436 [==============================] - 0s 724us/step - loss: 22603.8320 - mae: 111.7820 - val_loss: 24999.2031 - val_mae: 116.2939\n",
            "Epoch 39/100\n",
            "436/436 [==============================] - 0s 745us/step - loss: 22627.9082 - mae: 112.1883 - val_loss: 24870.5469 - val_mae: 114.0812\n",
            "Epoch 40/100\n",
            "436/436 [==============================] - 0s 731us/step - loss: 22616.5703 - mae: 111.8979 - val_loss: 24891.3984 - val_mae: 113.9573\n",
            "Epoch 41/100\n",
            "436/436 [==============================] - 0s 725us/step - loss: 22628.7363 - mae: 111.8887 - val_loss: 24877.5273 - val_mae: 115.4100\n",
            "Epoch 42/100\n",
            "436/436 [==============================] - 0s 721us/step - loss: 22581.6211 - mae: 111.8941 - val_loss: 24872.5605 - val_mae: 113.4271\n",
            "Epoch 43/100\n",
            "436/436 [==============================] - 0s 769us/step - loss: 22568.1738 - mae: 111.7482 - val_loss: 24911.1816 - val_mae: 117.3175\n",
            "Epoch 44/100\n",
            "436/436 [==============================] - 0s 701us/step - loss: 22562.8438 - mae: 111.9112 - val_loss: 24800.7988 - val_mae: 113.7301\n",
            "Epoch 45/100\n",
            "436/436 [==============================] - 0s 711us/step - loss: 22523.9824 - mae: 111.6405 - val_loss: 24773.9922 - val_mae: 113.2766\n",
            "Epoch 46/100\n",
            "436/436 [==============================] - 0s 726us/step - loss: 22535.2305 - mae: 111.7813 - val_loss: 24780.6719 - val_mae: 115.1681\n",
            "Epoch 47/100\n",
            "436/436 [==============================] - 0s 720us/step - loss: 22521.1992 - mae: 111.5181 - val_loss: 24684.4199 - val_mae: 115.1520\n",
            "Epoch 48/100\n",
            "436/436 [==============================] - 0s 752us/step - loss: 22479.1406 - mae: 111.7123 - val_loss: 24774.4414 - val_mae: 113.9882\n",
            "Epoch 49/100\n",
            "436/436 [==============================] - 0s 701us/step - loss: 22474.1602 - mae: 111.6125 - val_loss: 24895.2129 - val_mae: 112.0799\n",
            "Epoch 50/100\n",
            "436/436 [==============================] - 0s 715us/step - loss: 22480.0508 - mae: 111.5867 - val_loss: 24766.4277 - val_mae: 112.2018\n",
            "Epoch 51/100\n",
            "436/436 [==============================] - 0s 729us/step - loss: 22423.0898 - mae: 111.3258 - val_loss: 24903.6582 - val_mae: 116.7653\n",
            "Epoch 52/100\n",
            "436/436 [==============================] - 0s 725us/step - loss: 22436.5312 - mae: 111.5329 - val_loss: 24746.7852 - val_mae: 111.7609\n",
            "Epoch 53/100\n",
            "436/436 [==============================] - 0s 740us/step - loss: 22432.8223 - mae: 111.0372 - val_loss: 24621.4395 - val_mae: 114.2706\n",
            "Epoch 54/100\n",
            "436/436 [==============================] - 0s 750us/step - loss: 22413.4688 - mae: 111.2394 - val_loss: 24620.8105 - val_mae: 113.1921\n",
            "Epoch 55/100\n",
            "436/436 [==============================] - 0s 728us/step - loss: 22385.8457 - mae: 111.0145 - val_loss: 24752.9316 - val_mae: 116.5803\n",
            "Epoch 56/100\n",
            "436/436 [==============================] - 0s 749us/step - loss: 22376.2793 - mae: 111.0458 - val_loss: 24861.5664 - val_mae: 111.0604\n",
            "Epoch 57/100\n",
            "436/436 [==============================] - 0s 735us/step - loss: 22372.4766 - mae: 111.0600 - val_loss: 24508.2617 - val_mae: 114.4746\n",
            "Epoch 58/100\n",
            "436/436 [==============================] - 0s 736us/step - loss: 22318.7422 - mae: 111.2585 - val_loss: 25004.3262 - val_mae: 111.8555\n",
            "Epoch 59/100\n",
            "436/436 [==============================] - 0s 738us/step - loss: 22357.2617 - mae: 111.0716 - val_loss: 24758.8203 - val_mae: 110.8948\n",
            "Epoch 60/100\n",
            "436/436 [==============================] - 0s 760us/step - loss: 22306.6133 - mae: 110.9608 - val_loss: 24677.1895 - val_mae: 112.7879\n",
            "Epoch 61/100\n",
            "436/436 [==============================] - 0s 728us/step - loss: 22362.3535 - mae: 111.0776 - val_loss: 24741.6523 - val_mae: 111.1396\n",
            "Epoch 62/100\n",
            "436/436 [==============================] - 0s 737us/step - loss: 22332.4199 - mae: 110.7471 - val_loss: 24598.4746 - val_mae: 115.4115\n",
            "Epoch 63/100\n",
            "436/436 [==============================] - 0s 736us/step - loss: 22323.4590 - mae: 110.9477 - val_loss: 24515.9648 - val_mae: 113.3370\n",
            "Epoch 64/100\n",
            "436/436 [==============================] - 0s 765us/step - loss: 22256.8672 - mae: 110.7742 - val_loss: 24608.4062 - val_mae: 111.6142\n",
            "Epoch 65/100\n",
            "436/436 [==============================] - 0s 770us/step - loss: 22240.5488 - mae: 110.9216 - val_loss: 24514.1230 - val_mae: 113.5352\n",
            "Epoch 66/100\n",
            "436/436 [==============================] - 0s 735us/step - loss: 22287.7793 - mae: 110.6880 - val_loss: 24479.9922 - val_mae: 114.0865\n",
            "Epoch 67/100\n",
            "436/436 [==============================] - 0s 727us/step - loss: 22254.1367 - mae: 110.8598 - val_loss: 24428.5273 - val_mae: 112.8978\n",
            "Epoch 68/100\n",
            "436/436 [==============================] - 0s 731us/step - loss: 22261.8535 - mae: 110.9607 - val_loss: 24409.7070 - val_mae: 112.6298\n",
            "Epoch 69/100\n",
            "436/436 [==============================] - 0s 723us/step - loss: 22228.3984 - mae: 110.5994 - val_loss: 24392.9453 - val_mae: 113.5574\n",
            "Epoch 70/100\n",
            "436/436 [==============================] - 0s 753us/step - loss: 22208.8594 - mae: 110.6868 - val_loss: 24464.5020 - val_mae: 111.6507\n",
            "Epoch 71/100\n",
            "436/436 [==============================] - 0s 732us/step - loss: 22215.9629 - mae: 110.6275 - val_loss: 24416.8066 - val_mae: 111.9109\n",
            "Epoch 72/100\n",
            "436/436 [==============================] - 0s 725us/step - loss: 22136.2949 - mae: 110.3070 - val_loss: 24928.4883 - val_mae: 119.4698\n",
            "Epoch 73/100\n",
            "436/436 [==============================] - 0s 727us/step - loss: 22211.8047 - mae: 110.5344 - val_loss: 24373.0605 - val_mae: 114.1659\n",
            "Epoch 74/100\n",
            "436/436 [==============================] - 0s 721us/step - loss: 22178.0684 - mae: 110.4838 - val_loss: 24613.4863 - val_mae: 110.5329\n",
            "Epoch 75/100\n",
            "436/436 [==============================] - 0s 744us/step - loss: 22142.3574 - mae: 110.3866 - val_loss: 24624.5098 - val_mae: 115.8401\n",
            "Epoch 76/100\n",
            "436/436 [==============================] - 0s 727us/step - loss: 22142.5215 - mae: 110.3288 - val_loss: 24295.7949 - val_mae: 113.4827\n",
            "Epoch 77/100\n",
            "436/436 [==============================] - 0s 702us/step - loss: 22130.8633 - mae: 110.3572 - val_loss: 24497.2461 - val_mae: 116.6252\n",
            "Epoch 78/100\n",
            "436/436 [==============================] - 0s 744us/step - loss: 22119.7949 - mae: 110.4481 - val_loss: 24338.5098 - val_mae: 113.9926\n",
            "Epoch 79/100\n",
            "436/436 [==============================] - 0s 730us/step - loss: 22118.3965 - mae: 110.4379 - val_loss: 24346.1797 - val_mae: 113.1030\n",
            "Epoch 80/100\n",
            "436/436 [==============================] - 0s 726us/step - loss: 22114.8418 - mae: 110.1239 - val_loss: 24410.5059 - val_mae: 113.4080\n",
            "Epoch 81/100\n",
            "436/436 [==============================] - 0s 742us/step - loss: 22104.8516 - mae: 110.3633 - val_loss: 24321.6094 - val_mae: 113.2227\n",
            "Epoch 82/100\n",
            "436/436 [==============================] - 0s 734us/step - loss: 22098.5605 - mae: 110.2321 - val_loss: 24317.1797 - val_mae: 113.7583\n",
            "Epoch 83/100\n",
            "436/436 [==============================] - 0s 733us/step - loss: 22069.6309 - mae: 110.2797 - val_loss: 24363.2578 - val_mae: 112.3543\n",
            "Epoch 84/100\n",
            "436/436 [==============================] - 0s 713us/step - loss: 22055.3691 - mae: 110.1870 - val_loss: 24328.5918 - val_mae: 113.1139\n",
            "Epoch 85/100\n",
            "436/436 [==============================] - 0s 727us/step - loss: 22033.5898 - mae: 110.1105 - val_loss: 24480.4473 - val_mae: 115.1770\n",
            "Epoch 86/100\n",
            "436/436 [==============================] - 0s 735us/step - loss: 22061.2422 - mae: 110.3532 - val_loss: 24300.7695 - val_mae: 111.3403\n",
            "Epoch 87/100\n",
            "436/436 [==============================] - 0s 719us/step - loss: 22042.8320 - mae: 110.2147 - val_loss: 24358.5781 - val_mae: 111.1004\n",
            "Epoch 88/100\n",
            "436/436 [==============================] - 0s 741us/step - loss: 22013.1543 - mae: 110.0748 - val_loss: 24390.6582 - val_mae: 111.4082\n",
            "Epoch 89/100\n",
            "436/436 [==============================] - 0s 721us/step - loss: 22014.5410 - mae: 109.9555 - val_loss: 24296.9785 - val_mae: 111.6166\n",
            "Epoch 90/100\n",
            "436/436 [==============================] - 0s 727us/step - loss: 22003.0781 - mae: 109.9465 - val_loss: 24173.2949 - val_mae: 113.0366\n",
            "Epoch 91/100\n",
            "436/436 [==============================] - 0s 745us/step - loss: 21968.9531 - mae: 109.8605 - val_loss: 24464.0000 - val_mae: 116.8260\n",
            "Epoch 92/100\n",
            "436/436 [==============================] - 0s 746us/step - loss: 21957.1934 - mae: 109.8189 - val_loss: 24237.1387 - val_mae: 113.4897\n",
            "Epoch 93/100\n",
            "436/436 [==============================] - 0s 699us/step - loss: 21926.6055 - mae: 110.0867 - val_loss: 24332.7754 - val_mae: 112.9118\n",
            "Epoch 94/100\n",
            "436/436 [==============================] - 0s 755us/step - loss: 21955.9805 - mae: 109.7822 - val_loss: 24218.1523 - val_mae: 111.5001\n",
            "Epoch 95/100\n",
            "436/436 [==============================] - 0s 713us/step - loss: 21923.8223 - mae: 109.9200 - val_loss: 24214.1816 - val_mae: 111.2705\n",
            "Epoch 96/100\n",
            "436/436 [==============================] - 0s 747us/step - loss: 21921.3633 - mae: 109.7302 - val_loss: 24236.9844 - val_mae: 111.9423\n",
            "Epoch 97/100\n",
            "436/436 [==============================] - 0s 759us/step - loss: 21919.4219 - mae: 109.7210 - val_loss: 24185.2832 - val_mae: 114.2051\n",
            "Epoch 98/100\n",
            "436/436 [==============================] - 0s 746us/step - loss: 21919.0410 - mae: 109.7589 - val_loss: 24129.2422 - val_mae: 111.7587\n",
            "Epoch 99/100\n",
            "436/436 [==============================] - 0s 731us/step - loss: 21893.5918 - mae: 109.7333 - val_loss: 24099.7090 - val_mae: 111.9669\n",
            "Epoch 100/100\n",
            "436/436 [==============================] - 0s 751us/step - loss: 21833.3086 - mae: 109.4608 - val_loss: 24860.9492 - val_mae: 120.1038\n"
          ],
          "name": "stdout"
        }
      ]
    },
    {
      "cell_type": "markdown",
      "metadata": {
        "id": "3hoF7O_dByXY"
      },
      "source": [
        "### Step 5. 학습 과정 시각화  \n",
        "  *  학습 이력 정보에서 학습 데이터에 대한 'mae'/ 검증 데이터에 대한 'mae'를 추출하여 하나의 차트로 시각화\n",
        "  *  학습 이력 정보에서 학습 데이터에 대한 'loss'/ 검증 데이터에 대한 'loss'를 추출하여 하나의 차트로 시각화"
      ]
    },
    {
      "cell_type": "code",
      "metadata": {
        "id": "dFQyOXbwvv8k"
      },
      "source": [
        "# 학습과정 시각화를 위한 정보 추출\n",
        "loss = history.history['loss']\n",
        "val_loss = history.history['val_loss']\n",
        "\n",
        "mae = history.history['mae']\n",
        "val_mae = history.history['val_mae']"
      ],
      "execution_count": null,
      "outputs": []
    },
    {
      "cell_type": "code",
      "metadata": {
        "id": "lJUQC5lvwieW"
      },
      "source": [
        "# 차트의 x 축을 위한 epoch 정보 생성\n",
        "epochs = range(1, len(loss)+1)"
      ],
      "execution_count": null,
      "outputs": []
    },
    {
      "cell_type": "code",
      "metadata": {
        "id": "qRUMXoBzwrsx",
        "colab": {
          "base_uri": "https://localhost:8080/",
          "height": 281
        },
        "outputId": "c4a3c28a-023e-42f3-ded5-4afab6180e7e"
      },
      "source": [
        "# loss 정보 시각화\n",
        "# type here 11\n",
        "plt.plot(epochs, loss, label='Training loss')\n",
        "plt.plot(epochs, val_loss, label='Validation loss')\n",
        "plt.title('Training and validation loss')\n",
        "plt.legend()\n",
        "\n",
        "plt.show()"
      ],
      "execution_count": null,
      "outputs": [
        {
          "output_type": "display_data",
          "data": {
            "image/png": "[encoded data removed]",
            "text/plain": [
              "<Figure size 432x288 with 1 Axes>"
            ]
          },
          "metadata": {
            "tags": [],
            "needs_background": "light"
          }
        }
      ]
    },
    {
      "cell_type": "code",
      "metadata": {
        "id": "nEUPfHmVw2y8",
        "colab": {
          "base_uri": "https://localhost:8080/",
          "height": 299
        },
        "outputId": "fea48cbb-1da7-4346-c776-0a09a214aea7"
      },
      "source": [
        "# Mean Absolute Error 정보 시각화\n",
        "# type here 12\n",
        "plt.plot(epochs, mae, label='Training mae')\n",
        "plt.plot(epochs, val_mae, label='Validation mae')\n",
        "plt.title('Training and validation mae')\n",
        "plt.legend()"
      ],
      "execution_count": null,
      "outputs": [
        {
          "output_type": "execute_result",
          "data": {
            "text/plain": [
              "<matplotlib.legend.Legend at 0x7f01148e5358>"
            ]
          },
          "metadata": {
            "tags": []
          },
          "execution_count": 33
        },
        {
          "output_type": "display_data",
          "data": {
            "image/png": "[encoded data removed]",
            "text/plain": [
              "<Figure size 432x288 with 1 Axes>"
            ]
          },
          "metadata": {
            "tags": [],
            "needs_background": "light"
          }
        }
      ]
    },
    {
      "cell_type": "markdown",
      "metadata": {
        "id": "RZBNYdKXG0nT"
      },
      "source": [
        "### Step 6. 테스트 데이터 셋을 통한 모델의 성능 평가"
      ]
    },
    {
      "cell_type": "code",
      "metadata": {
        "id": "-7MfVZaFxXo1",
        "colab": {
          "base_uri": "https://localhost:8080/",
          "height": 35
        },
        "outputId": "2590abe8-c292-4e40-93ec-8cc1f0014c77"
      },
      "source": [
        "# 테스트 데이터 셋을 통한 성능 측정\n",
        "# type here 13\n",
        "test_loss, test_mae = model.evaluate(x=test_dataset, y=test_labels)"
      ],
      "execution_count": null,
      "outputs": [
        {
          "output_type": "stream",
          "text": [
            "69/69 [==============================] - 0s 550us/step - loss: 23007.6562 - mae: 116.7056\n"
          ],
          "name": "stdout"
        }
      ]
    },
    {
      "cell_type": "markdown",
      "metadata": {
        "id": "dh4A55o-G5q0"
      },
      "source": [
        "### Step 7. 학습된 모델을 이용한 특정 데이터의 예측  \n",
        "  *  테스트 데이터 중 100건 데이터의 예측 결과 출력  \n"
      ]
    },
    {
      "cell_type": "code",
      "metadata": {
        "id": "fXiiDlhxgY4D"
      },
      "source": [
        "#type here 14\n",
        "predictions = model.predict(test_dataset[:100])"
      ],
      "execution_count": null,
      "outputs": []
    },
    {
      "cell_type": "markdown",
      "metadata": {
        "id": "sTY3by72Q4vh"
      },
      "source": [
        "  *  테스트 정답 데이터 100건 추출하여 모델의 예측결과와 비교하여 차트로 시각화"
      ]
    },
    {
      "cell_type": "code",
      "metadata": {
        "id": "pHfcscwyAyhl"
      },
      "source": [
        "index = range(1, len(predictions) + 1)"
      ],
      "execution_count": null,
      "outputs": []
    },
    {
      "cell_type": "code",
      "metadata": {
        "id": "_Kbjl3sDT6rF",
        "colab": {
          "base_uri": "https://localhost:8080/",
          "height": 281
        },
        "outputId": "d57526b4-72cc-4833-877c-a8233df9d1a5"
      },
      "source": [
        "# 정답 데이터와 예측 데이터 정보 시각화\n",
        "plt.plot(index, predictions, label='predict count')\n",
        "plt.plot(index, test_labels[:len(predictions)], label='label count')\n",
        "plt.title('Predict and label count')\n",
        "plt.legend()\n",
        "\n",
        "plt.show()"
      ],
      "execution_count": null,
      "outputs": [
        {
          "output_type": "display_data",
          "data": {
            "image/png": "[encoded data removed]",
            "text/plain": [
              "<Figure size 432x288 with 1 Axes>"
            ]
          },
          "metadata": {
            "tags": [],
            "needs_background": "light"
          }
        }
      ]
    }
  ]
}